{
  "cells": [
    {
      "cell_type": "code",
      "execution_count": 40,
      "metadata": {
        "id": "sS-jkCT8Ujpi"
      },
      "outputs": [],
      "source": [
        "import pandas as pd\n",
        "import numpy as np"
      ]
    },
    {
      "cell_type": "code",
      "execution_count": 41,
      "metadata": {
        "colab": {
          "base_uri": "https://localhost:8080/"
        },
        "id": "XPxieMscU3E2",
        "outputId": "fbeefc28-b2e5-4fd1-f7a9-ba7933190a47"
      },
      "outputs": [
        {
          "name": "stdout",
          "output_type": "stream",
          "text": [
            "In which field do you want to perform AHP: Phone\n",
            "On how many criterias should the decision be based? 3\n"
          ]
        }
      ],
      "source": [
        "field = input(\"In which field do you want to perform AHP: \")\n",
        "n = int(input(\"On how many criterias should the decision be based? \"))\n"
      ]
    },
    {
      "cell_type": "code",
      "execution_count": 42,
      "metadata": {
        "colab": {
          "base_uri": "https://localhost:8080/"
        },
        "id": "LrTFu3L0VdtC",
        "outputId": "a1467c16-bf8a-49dc-f410-0c17b2ca0eb9"
      },
      "outputs": [
        {
          "name": "stdout",
          "output_type": "stream",
          "text": [
            "Enter criteria 1 :Design\n",
            "Enter criteria 2 :Features\n",
            "Enter criteria 3 :Price\n"
          ]
        }
      ],
      "source": [
        "Factors = []\n",
        "for i in range (n):\n",
        "  criteria = input(f\"Enter criteria {i+1} :\")\n",
        "  Factors.append(criteria)"
      ]
    },
    {
      "cell_type": "code",
      "execution_count": 43,
      "metadata": {
        "colab": {
          "base_uri": "https://localhost:8080/"
        },
        "id": "iOrYwapLWYhb",
        "outputId": "8693a1dc-5217-4d79-c464-bd286c58a19b"
      },
      "outputs": [
        {
          "name": "stdout",
          "output_type": "stream",
          "text": [
            "How many options do you have for comparision?3\n",
            "Enter the option 1:S20\n",
            "Enter the option 2:S21\n",
            "Enter the option 3:S22\n"
          ]
        }
      ],
      "source": [
        "m = int(input(\"How many options do you have for comparision?\"))\n",
        "Options = []\n",
        "for i in range (m):\n",
        "  Options.append(input(f\"Enter the option {i+1}:\"))\n"
      ]
    },
    {
      "cell_type": "code",
      "execution_count": 44,
      "metadata": {
        "colab": {
          "base_uri": "https://localhost:8080/"
        },
        "id": "Dphbnl09XFWq",
        "outputId": "e2394440-cdc9-4c32-ed70-5d28f91f4bab"
      },
      "outputs": [
        {
          "name": "stdout",
          "output_type": "stream",
          "text": [
            "How much would you rate S20 with respect to S21 in Design if S21 = 1 3\n",
            "How much would you rate S20 with respect to S22 in Design if S22 = 1 9\n",
            "How much would you rate S21 with respect to S22 in Design if S22 = 1 6\n",
            "             S20   S21     S22  Priorities\n",
            "Design                                    \n",
            "S20     0.692308  0.72  0.5625    0.658269\n",
            "S21     0.230769  0.24  0.3750    0.281923\n",
            "S22     0.076923  0.04  0.0625    0.059808\n",
            "[2.04230769 0.86019231 0.1799359 ]\n",
            "Design\n",
            "S20    3.102542\n",
            "S21    3.051160\n",
            "S22    3.008574\n",
            "Name: Priorities, dtype: float64\n",
            "3.0540919130155935\n",
            "0.02704595650779673\n",
            "0.04663095949620127\n",
            "       Design\n",
            "S20  0.658269\n",
            "S21  0.281923\n",
            "S22  0.059808\n",
            "How much would you rate S20 with respect to S21 in Features if S21 = 1 0.5\n",
            "How much would you rate S20 with respect to S22 in Features if S22 = 1 0.13\n",
            "How much would you rate S21 with respect to S22 in Features if S22 = 1 0.2\n",
            "               S20       S21       S22  Priorities\n",
            "Features                                          \n",
            "S20       0.093525  0.076923  0.097744    0.089398\n",
            "S21       0.187050  0.153846  0.150376    0.163757\n",
            "S22       0.719424  0.769231  0.751880    0.746845\n",
            "[0.26836613 0.49192156 2.25330578]\n",
            "Features\n",
            "S20    3.001941\n",
            "S21    3.003964\n",
            "S22    3.017100\n",
            "Name: Priorities, dtype: float64\n",
            "3.0076681459144603\n",
            "0.00383407295723015\n",
            "0.006610470615914053\n",
            "       Design  Features\n",
            "S20  0.658269  0.089398\n",
            "S21  0.281923  0.163757\n",
            "S22  0.059808  0.746845\n",
            "How much would you rate S20 with respect to S21 in Price if S21 = 1 1\n",
            "How much would you rate S20 with respect to S22 in Price if S22 = 1 6\n",
            "How much would you rate S21 with respect to S22 in Price if S22 = 1 3\n",
            "            S20       S21  S22  Priorities\n",
            "Price                                     \n",
            "S20    0.461538  0.428571  0.6    0.496703\n",
            "S21    0.461538  0.428571  0.3    0.396703\n",
            "S22    0.076923  0.142857  0.1    0.106593\n",
            "[1.53296703 1.21318681 0.32161172]\n",
            "Price\n",
            "S20    3.086283\n",
            "S21    3.058172\n",
            "S22    3.017182\n",
            "Name: Priorities, dtype: float64\n",
            "3.0538790205257516\n",
            "0.026939510262875777\n",
            "0.04644743148771686\n",
            "       Design  Features     Price\n",
            "S20  0.658269  0.089398  0.496703\n",
            "S21  0.281923  0.163757  0.396703\n",
            "S22  0.059808  0.746845  0.106593\n"
          ]
        }
      ],
      "source": [
        "final_df = pd.DataFrame(data = [], index = Options )\n",
        "RI = [0,0,0,0.58,0.90,1.12,1.24,1.32,1.42]\n",
        "for i in range (n):\n",
        "  data = {Factors[i] : Options}\n",
        "  for j in range (m):\n",
        "    l = [1.]*m\n",
        "    data[Options[j]] = l\n",
        "  df = pd.DataFrame(data).set_index(Factors[i])\n",
        "  for j in range (m-1):\n",
        "    for k  in range (j+1,m):\n",
        "      df.iloc[j][k] = float(input(f\"How much would you rate {Options[j]} with respect to {Options[k]} in {Factors[i]} if {Options[k]} = 1 \"))\n",
        "      df.iloc[k][j] = 1 / df.iloc[j][k]\n",
        "  df_org = df.copy()\n",
        "  df = df.div(df.sum())\n",
        "  df['Priorities'] = np.mean(df,axis=1)\n",
        "  print(df)\n",
        "  dot_product = np.dot(df_org,df['Priorities'])\n",
        "  print(dot_product)\n",
        "  consistency_vector = dot_product / df ['Priorities']\n",
        "  print(consistency_vector) \n",
        "  Lambda = consistency_vector.mean()\n",
        "  print(Lambda)\n",
        "  consistency_index = (Lambda - m)/(m-1)\n",
        "  print(consistency_index)\n",
        "  if(consistency_index > 0.1):\n",
        "    print(\"Your answers are highly consistent with different choices.So a better option can not be selected with these priorities\")\n",
        "    exit(0)\n",
        "  consistency_ratio = consistency_index / RI[m]\n",
        "  print(consistency_ratio)\n",
        "  \n",
        "\n",
        "\n",
        "  final_df[Factors[i]] = df ['Priorities']\n",
        "  print(final_df)\n",
        "\n"
      ]
    },
    {
      "cell_type": "code",
      "execution_count": 61,
      "metadata": {
        "colab": {
          "base_uri": "https://localhost:8080/",
          "height": 265
        },
        "id": "uF8IKaY5ZHvS",
        "outputId": "f1b59369-6f82-4e98-886a-2641ccf14ee2"
      },
      "outputs": [
        {
          "name": "stdout",
          "output_type": "stream",
          "text": [
            "            0    1    2\n",
            "Design    1.0  1.0  1.0\n",
            "Features  1.0  1.0  1.0\n",
            "Price     1.0  1.0  1.0\n",
            "How much is Design more important for you with respect to Features  if Features = 1 0.13\n",
            "How much is Design more important for you with respect to Price  if Price = 1 0.33\n",
            "How much is Features more important for you with respect to Price  if Price = 1 3\n"
          ]
        },
        {
          "data": {
            "text/html": [
              "\n",
              "  <div id=\"df-bdeb1985-02ca-48f3-957a-6e0dabaebb2d\">\n",
              "    <div class=\"colab-df-container\">\n",
              "      <div>\n",
              "<style scoped>\n",
              "    .dataframe tbody tr th:only-of-type {\n",
              "        vertical-align: middle;\n",
              "    }\n",
              "\n",
              "    .dataframe tbody tr th {\n",
              "        vertical-align: top;\n",
              "    }\n",
              "\n",
              "    .dataframe thead th {\n",
              "        text-align: right;\n",
              "    }\n",
              "</style>\n",
              "<table border=\"1\" class=\"dataframe\">\n",
              "  <thead>\n",
              "    <tr style=\"text-align: right;\">\n",
              "      <th></th>\n",
              "      <th>0</th>\n",
              "      <th>1</th>\n",
              "      <th>2</th>\n",
              "      <th>Priorities</th>\n",
              "    </tr>\n",
              "  </thead>\n",
              "  <tbody>\n",
              "    <tr>\n",
              "      <th>Design</th>\n",
              "      <td>0.085305</td>\n",
              "      <td>0.088838</td>\n",
              "      <td>0.076212</td>\n",
              "      <td>0.083452</td>\n",
              "    </tr>\n",
              "    <tr>\n",
              "      <th>Features</th>\n",
              "      <td>0.656194</td>\n",
              "      <td>0.683371</td>\n",
              "      <td>0.692841</td>\n",
              "      <td>0.677469</td>\n",
              "    </tr>\n",
              "    <tr>\n",
              "      <th>Price</th>\n",
              "      <td>0.258501</td>\n",
              "      <td>0.227790</td>\n",
              "      <td>0.230947</td>\n",
              "      <td>0.239079</td>\n",
              "    </tr>\n",
              "  </tbody>\n",
              "</table>\n",
              "</div>\n",
              "      <button class=\"colab-df-convert\" onclick=\"convertToInteractive('df-bdeb1985-02ca-48f3-957a-6e0dabaebb2d')\"\n",
              "              title=\"Convert this dataframe to an interactive table.\"\n",
              "              style=\"display:none;\">\n",
              "        \n",
              "  <svg xmlns=\"http://www.w3.org/2000/svg\" height=\"24px\"viewBox=\"0 0 24 24\"\n",
              "       width=\"24px\">\n",
              "    <path d=\"M0 0h24v24H0V0z\" fill=\"none\"/>\n",
              "    <path d=\"M18.56 5.44l.94 2.06.94-2.06 2.06-.94-2.06-.94-.94-2.06-.94 2.06-2.06.94zm-11 1L8.5 8.5l.94-2.06 2.06-.94-2.06-.94L8.5 2.5l-.94 2.06-2.06.94zm10 10l.94 2.06.94-2.06 2.06-.94-2.06-.94-.94-2.06-.94 2.06-2.06.94z\"/><path d=\"M17.41 7.96l-1.37-1.37c-.4-.4-.92-.59-1.43-.59-.52 0-1.04.2-1.43.59L10.3 9.45l-7.72 7.72c-.78.78-.78 2.05 0 2.83L4 21.41c.39.39.9.59 1.41.59.51 0 1.02-.2 1.41-.59l7.78-7.78 2.81-2.81c.8-.78.8-2.07 0-2.86zM5.41 20L4 18.59l7.72-7.72 1.47 1.35L5.41 20z\"/>\n",
              "  </svg>\n",
              "      </button>\n",
              "      \n",
              "  <style>\n",
              "    .colab-df-container {\n",
              "      display:flex;\n",
              "      flex-wrap:wrap;\n",
              "      gap: 12px;\n",
              "    }\n",
              "\n",
              "    .colab-df-convert {\n",
              "      background-color: #E8F0FE;\n",
              "      border: none;\n",
              "      border-radius: 50%;\n",
              "      cursor: pointer;\n",
              "      display: none;\n",
              "      fill: #1967D2;\n",
              "      height: 32px;\n",
              "      padding: 0 0 0 0;\n",
              "      width: 32px;\n",
              "    }\n",
              "\n",
              "    .colab-df-convert:hover {\n",
              "      background-color: #E2EBFA;\n",
              "      box-shadow: 0px 1px 2px rgba(60, 64, 67, 0.3), 0px 1px 3px 1px rgba(60, 64, 67, 0.15);\n",
              "      fill: #174EA6;\n",
              "    }\n",
              "\n",
              "    [theme=dark] .colab-df-convert {\n",
              "      background-color: #3B4455;\n",
              "      fill: #D2E3FC;\n",
              "    }\n",
              "\n",
              "    [theme=dark] .colab-df-convert:hover {\n",
              "      background-color: #434B5C;\n",
              "      box-shadow: 0px 1px 3px 1px rgba(0, 0, 0, 0.15);\n",
              "      filter: drop-shadow(0px 1px 2px rgba(0, 0, 0, 0.3));\n",
              "      fill: #FFFFFF;\n",
              "    }\n",
              "  </style>\n",
              "\n",
              "      <script>\n",
              "        const buttonEl =\n",
              "          document.querySelector('#df-bdeb1985-02ca-48f3-957a-6e0dabaebb2d button.colab-df-convert');\n",
              "        buttonEl.style.display =\n",
              "          google.colab.kernel.accessAllowed ? 'block' : 'none';\n",
              "\n",
              "        async function convertToInteractive(key) {\n",
              "          const element = document.querySelector('#df-bdeb1985-02ca-48f3-957a-6e0dabaebb2d');\n",
              "          const dataTable =\n",
              "            await google.colab.kernel.invokeFunction('convertToInteractive',\n",
              "                                                     [key], {});\n",
              "          if (!dataTable) return;\n",
              "\n",
              "          const docLinkHtml = 'Like what you see? Visit the ' +\n",
              "            '<a target=\"_blank\" href=https://colab.research.google.com/notebooks/data_table.ipynb>data table notebook</a>'\n",
              "            + ' to learn more about interactive tables.';\n",
              "          element.innerHTML = '';\n",
              "          dataTable['output_type'] = 'display_data';\n",
              "          await google.colab.output.renderOutput(dataTable, element);\n",
              "          const docLink = document.createElement('div');\n",
              "          docLink.innerHTML = docLinkHtml;\n",
              "          element.appendChild(docLink);\n",
              "        }\n",
              "      </script>\n",
              "    </div>\n",
              "  </div>\n",
              "  "
            ],
            "text/plain": [
              "                 0         1         2  Priorities\n",
              "Design    0.085305  0.088838  0.076212    0.083452\n",
              "Features  0.656194  0.683371  0.692841    0.677469\n",
              "Price     0.258501  0.227790  0.230947    0.239079"
            ]
          },
          "execution_count": 61,
          "metadata": {},
          "output_type": "execute_result"
        }
      ],
      "source": [
        "# FP (Factors Priority)\n",
        "FP = pd.DataFrame(data = np.ones((n,n)),index = Factors)\n",
        "print(FP)\n",
        "for i in range (n-1):\n",
        "    for j in range (i+1,n):\n",
        "      FP.iloc[i][j] = float(input(f\"How much is {Factors[i]} more important for you with respect to {Factors[j]}  if {Factors[j]} = 1 \"))\n",
        "      FP.iloc[j][i] = (1)/(FP.iloc[i][j])\n",
        "\n",
        "\n",
        "FP_org = FP.copy()\n",
        "FP = FP.div(FP.sum())\n",
        "FP['Priorities'] = np.mean(FP,axis=1)\n",
        "FP"
      ]
    },
    {
      "cell_type": "code",
      "execution_count": 63,
      "metadata": {
        "colab": {
          "base_uri": "https://localhost:8080/"
        },
        "id": "pk5yShfVWcfN",
        "outputId": "e3e2fc41-4e9a-418b-fa88-e1f5fe4b4797"
      },
      "outputs": [
        {
          "data": {
            "text/plain": [
              "array([0.2342494 , 0.22931117, 0.53643943])"
            ]
          },
          "execution_count": 63,
          "metadata": {},
          "output_type": "execute_result"
        }
      ],
      "source": [
        "dot_product = np.dot(final_df,FP['Priorities'])\n",
        "dot_product"
      ]
    },
    {
      "cell_type": "code",
      "execution_count": 64,
      "metadata": {
        "colab": {
          "base_uri": "https://localhost:8080/",
          "height": 143
        },
        "id": "tg_TY5z6ZZVZ",
        "outputId": "11519432-1538-41f9-e1f8-db443dcc28aa"
      },
      "outputs": [
        {
          "data": {
            "text/html": [
              "\n",
              "  <div id=\"df-d5973864-09da-48ba-ab5c-d47c7c10a0f8\">\n",
              "    <div class=\"colab-df-container\">\n",
              "      <div>\n",
              "<style scoped>\n",
              "    .dataframe tbody tr th:only-of-type {\n",
              "        vertical-align: middle;\n",
              "    }\n",
              "\n",
              "    .dataframe tbody tr th {\n",
              "        vertical-align: top;\n",
              "    }\n",
              "\n",
              "    .dataframe thead th {\n",
              "        text-align: right;\n",
              "    }\n",
              "</style>\n",
              "<table border=\"1\" class=\"dataframe\">\n",
              "  <thead>\n",
              "    <tr style=\"text-align: right;\">\n",
              "      <th></th>\n",
              "      <th>Design</th>\n",
              "      <th>Features</th>\n",
              "      <th>Price</th>\n",
              "      <th>Priorities</th>\n",
              "    </tr>\n",
              "  </thead>\n",
              "  <tbody>\n",
              "    <tr>\n",
              "      <th>S20</th>\n",
              "      <td>0.658269</td>\n",
              "      <td>0.089398</td>\n",
              "      <td>0.496703</td>\n",
              "      <td>0.234249</td>\n",
              "    </tr>\n",
              "    <tr>\n",
              "      <th>S21</th>\n",
              "      <td>0.281923</td>\n",
              "      <td>0.163757</td>\n",
              "      <td>0.396703</td>\n",
              "      <td>0.229311</td>\n",
              "    </tr>\n",
              "    <tr>\n",
              "      <th>S22</th>\n",
              "      <td>0.059808</td>\n",
              "      <td>0.746845</td>\n",
              "      <td>0.106593</td>\n",
              "      <td>0.536439</td>\n",
              "    </tr>\n",
              "  </tbody>\n",
              "</table>\n",
              "</div>\n",
              "      <button class=\"colab-df-convert\" onclick=\"convertToInteractive('df-d5973864-09da-48ba-ab5c-d47c7c10a0f8')\"\n",
              "              title=\"Convert this dataframe to an interactive table.\"\n",
              "              style=\"display:none;\">\n",
              "        \n",
              "  <svg xmlns=\"http://www.w3.org/2000/svg\" height=\"24px\"viewBox=\"0 0 24 24\"\n",
              "       width=\"24px\">\n",
              "    <path d=\"M0 0h24v24H0V0z\" fill=\"none\"/>\n",
              "    <path d=\"M18.56 5.44l.94 2.06.94-2.06 2.06-.94-2.06-.94-.94-2.06-.94 2.06-2.06.94zm-11 1L8.5 8.5l.94-2.06 2.06-.94-2.06-.94L8.5 2.5l-.94 2.06-2.06.94zm10 10l.94 2.06.94-2.06 2.06-.94-2.06-.94-.94-2.06-.94 2.06-2.06.94z\"/><path d=\"M17.41 7.96l-1.37-1.37c-.4-.4-.92-.59-1.43-.59-.52 0-1.04.2-1.43.59L10.3 9.45l-7.72 7.72c-.78.78-.78 2.05 0 2.83L4 21.41c.39.39.9.59 1.41.59.51 0 1.02-.2 1.41-.59l7.78-7.78 2.81-2.81c.8-.78.8-2.07 0-2.86zM5.41 20L4 18.59l7.72-7.72 1.47 1.35L5.41 20z\"/>\n",
              "  </svg>\n",
              "      </button>\n",
              "      \n",
              "  <style>\n",
              "    .colab-df-container {\n",
              "      display:flex;\n",
              "      flex-wrap:wrap;\n",
              "      gap: 12px;\n",
              "    }\n",
              "\n",
              "    .colab-df-convert {\n",
              "      background-color: #E8F0FE;\n",
              "      border: none;\n",
              "      border-radius: 50%;\n",
              "      cursor: pointer;\n",
              "      display: none;\n",
              "      fill: #1967D2;\n",
              "      height: 32px;\n",
              "      padding: 0 0 0 0;\n",
              "      width: 32px;\n",
              "    }\n",
              "\n",
              "    .colab-df-convert:hover {\n",
              "      background-color: #E2EBFA;\n",
              "      box-shadow: 0px 1px 2px rgba(60, 64, 67, 0.3), 0px 1px 3px 1px rgba(60, 64, 67, 0.15);\n",
              "      fill: #174EA6;\n",
              "    }\n",
              "\n",
              "    [theme=dark] .colab-df-convert {\n",
              "      background-color: #3B4455;\n",
              "      fill: #D2E3FC;\n",
              "    }\n",
              "\n",
              "    [theme=dark] .colab-df-convert:hover {\n",
              "      background-color: #434B5C;\n",
              "      box-shadow: 0px 1px 3px 1px rgba(0, 0, 0, 0.15);\n",
              "      filter: drop-shadow(0px 1px 2px rgba(0, 0, 0, 0.3));\n",
              "      fill: #FFFFFF;\n",
              "    }\n",
              "  </style>\n",
              "\n",
              "      <script>\n",
              "        const buttonEl =\n",
              "          document.querySelector('#df-d5973864-09da-48ba-ab5c-d47c7c10a0f8 button.colab-df-convert');\n",
              "        buttonEl.style.display =\n",
              "          google.colab.kernel.accessAllowed ? 'block' : 'none';\n",
              "\n",
              "        async function convertToInteractive(key) {\n",
              "          const element = document.querySelector('#df-d5973864-09da-48ba-ab5c-d47c7c10a0f8');\n",
              "          const dataTable =\n",
              "            await google.colab.kernel.invokeFunction('convertToInteractive',\n",
              "                                                     [key], {});\n",
              "          if (!dataTable) return;\n",
              "\n",
              "          const docLinkHtml = 'Like what you see? Visit the ' +\n",
              "            '<a target=\"_blank\" href=https://colab.research.google.com/notebooks/data_table.ipynb>data table notebook</a>'\n",
              "            + ' to learn more about interactive tables.';\n",
              "          element.innerHTML = '';\n",
              "          dataTable['output_type'] = 'display_data';\n",
              "          await google.colab.output.renderOutput(dataTable, element);\n",
              "          const docLink = document.createElement('div');\n",
              "          docLink.innerHTML = docLinkHtml;\n",
              "          element.appendChild(docLink);\n",
              "        }\n",
              "      </script>\n",
              "    </div>\n",
              "  </div>\n",
              "  "
            ],
            "text/plain": [
              "       Design  Features     Price  Priorities\n",
              "S20  0.658269  0.089398  0.496703    0.234249\n",
              "S21  0.281923  0.163757  0.396703    0.229311\n",
              "S22  0.059808  0.746845  0.106593    0.536439"
            ]
          },
          "execution_count": 64,
          "metadata": {},
          "output_type": "execute_result"
        }
      ],
      "source": [
        "final_df['Priorities'] = dot_product\n",
        "final_df"
      ]
    },
    {
      "cell_type": "code",
      "execution_count": 65,
      "metadata": {
        "colab": {
          "base_uri": "https://localhost:8080/"
        },
        "id": "u1bCb8YKZsiL",
        "outputId": "c09bc5f2-c691-4b1c-e81c-a073efe5ae8a"
      },
      "outputs": [
        {
          "name": "stdout",
          "output_type": "stream",
          "text": [
            "0.5364394270475124\n"
          ]
        }
      ],
      "source": [
        "print(final_df['Priorities'].max())"
      ]
    },
    {
      "cell_type": "code",
      "execution_count": 71,
      "metadata": {
        "colab": {
          "base_uri": "https://localhost:8080/"
        },
        "id": "QGD6PQd_ediN",
        "outputId": "71acf1f9-9015-4728-e0ab-ea3b88937162"
      },
      "outputs": [
        {
          "name": "stdout",
          "output_type": "stream",
          "text": [
            "S22. Acoording to your answers this is the best selection for you bu AHP\n"
          ]
        }
      ],
      "source": [
        "print(final_df.loc[final_df['Priorities'] == final_df['Priorities'].max()].index[0], end = \". \")\n",
        "print(\"Acoording to your answers this is the best selection for you bu AHP\")"
      ]
    },
    {
      "cell_type": "code",
      "execution_count": null,
      "metadata": {
        "id": "LSs2Ho3BfaKY"
      },
      "outputs": [],
      "source": []
    }
  ],
  "metadata": {
    "colab": {
      "provenance": []
    },
    "kernelspec": {
      "display_name": "Python 3",
      "name": "python3"
    },
    "language_info": {
      "name": "python",
      "version": "3.10.6"
    }
  },
  "nbformat": 4,
  "nbformat_minor": 0
}
